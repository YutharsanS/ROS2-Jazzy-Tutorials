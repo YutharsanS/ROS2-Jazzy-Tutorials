{
 "cells": [
  {
   "cell_type": "markdown",
   "metadata": {},
   "source": [
    "# 3D Rotation\n",
    "3D Rotation can be represented in different ways as discussed in last week's lectures.\n",
    "These include:\n",
    "1.\tRotation matrices\n",
    "2.  Three angle representation\n",
    "3.\tTwo vector representation\n",
    "4.\tRotation about an eigen vector\n",
    "5.\tUnit quaternion\n",
    "6.\tMatrix exponential\n",
    "\n",
    "We explored the `rotation matrices` approach in last weeks lab exercise.\n",
    "\n",
    "This lab is designed for you to implement rotation matrices in each of those different methods."
   ]
  },
  {
   "cell_type": "code",
   "execution_count": 1,
   "metadata": {},
   "outputs": [],
   "source": [
    "# import required libraries\n",
    "import numpy as np\n",
    "import matplotlib.pyplot as plt\n",
    "# To render plots inline\n",
    "%matplotlib inline\n",
    "\n",
    "# For unit tests\n",
    "from tester import LabTester\n",
    "lab_tester = LabTester()"
   ]
  },
  {
   "cell_type": "code",
   "execution_count": 2,
   "metadata": {},
   "outputs": [],
   "source": [
    "def rotation_three_angle(alpha:float, gamma:float, theta:float, p:np.ndarray) -> np.ndarray:\n",
    "    \"\"\"\n",
    "    Input:\n",
    "        alpha, gamma, theta - Euler angles of rotation about the axes (x, y, x)\n",
    "        p                   - The vector to be transformed\n",
    "    Output: resulting coordinates after appyling the rotation\n",
    "    \"\"\"\n",
    "    # Your code here - Use Euler angles method => (x,y,x)\n",
    "\n",
    "    def rotation_x(angle: float)-> np.ndarray:\n",
    "        angle = np.radians(angle)\n",
    "\n",
    "        R_x = np.array([\n",
    "            [1, 0, 0],\n",
    "            [0, np.cos(angle), -np.sin(angle)],\n",
    "            [0, np.sin(angle), np.cos(angle)]\n",
    "        ])\n",
    "\n",
    "        return R_x\n",
    "\n",
    "    def rotation_y(angle: float)-> np.ndarray:\n",
    "        angle = np.radians(angle)\n",
    "\n",
    "        R_y = np.array([\n",
    "            [np.cos(angle), 0, np.sin(angle)],\n",
    "            [0, 1, 0],\n",
    "            [-np.sin(angle), 0, np.cos(angle)]\n",
    "        ])\n",
    "\n",
    "        return R_y\n",
    "\n",
    "    p = rotation_x(alpha) @ rotation_y(gamma) @ rotation_x(theta) @ p\n",
    "    return p\n"
   ]
  },
  {
   "cell_type": "code",
   "execution_count": 3,
   "metadata": {},
   "outputs": [
    {
     "name": "stdout",
     "output_type": "stream",
     "text": [
      "\n",
      "=== Testing Three Angle Rotation Implementation ===\n",
      "✅ No Rotation\n",
      "✅ 45 Degree Rotation\n",
      "✅ Full Rotation\n",
      "✅ Negative 45 Degree Rotation\n"
     ]
    }
   ],
   "source": [
    "# Run test cases\n",
    "lab_tester.test_rotation_three_angle(rotation_three_angle)"
   ]
  },
  {
   "cell_type": "code",
   "execution_count": 4,
   "metadata": {},
   "outputs": [],
   "source": [
    "def rotation_two_vector(a_v: np.ndarray, o_v: np.ndarray, p:np.ndarray) -> np.ndarray:\n",
    "    \"\"\"\n",
    "    Input:\n",
    "        a_v     - Approach vector\n",
    "        o_v     - Orientation vector\n",
    "        p       - The vector to be transformed\n",
    "    Output: resulting coordinates after appyling the rotation\n",
    "    \"\"\"\n",
    "    # Your code here\n",
    "    a_v = a_v / np.linalg.norm(a_v)\n",
    "    o_v = o_v / np.linalg.norm(o_v)\n",
    "\n",
    "    orthogonal_vector = np.cross(o_v, a_v)\n",
    "    o_v = np.cross(a_v, orthogonal_vector)\n",
    "\n",
    "    if(np.linalg.norm(orthogonal_vector) < 1e-6):\n",
    "        raise ValueError(\"Gimbal Lock Occurred: Approach vector and Orientation Vector are parallel or anti parallel\")\n",
    "\n",
    "    # Normalization\n",
    "    orthogonal_vector = orthogonal_vector / np.linalg.norm(orthogonal_vector)\n",
    "    o_v = o_v / np.linalg.norm(o_v)\n",
    "    a_v = a_v / np.linalg.norm(a_v)\n",
    "    # Rotational Matrix\n",
    "    result = np.array([orthogonal_vector, o_v, a_v])\n",
    "    R = result.T\n",
    "    return R @ p"
   ]
  },
  {
   "cell_type": "code",
   "execution_count": 5,
   "metadata": {},
   "outputs": [
    {
     "name": "stdout",
     "output_type": "stream",
     "text": [
      "\n",
      "=== Testing Two Vector Rotation Implementation ===\n",
      "✅ X-Axis Rotation\n",
      "✅ Y-Axis Rotation\n",
      "✅ Z-Axis Rotation\n",
      "✅ 45-degree Z Rotation\n"
     ]
    }
   ],
   "source": [
    "lab_tester.test_rotation_two_vector(rotation_two_vector)"
   ]
  },
  {
   "cell_type": "code",
   "execution_count": 6,
   "metadata": {},
   "outputs": [],
   "source": [
    "def rotation_eigen_vector(neta: np.ndarray, theta:float, p:np.ndarray) -> np.ndarray:\n",
    "    \"\"\"\n",
    "    Input:\n",
    "        neta    - Eigen vector with eigen value 1\n",
    "        theta   - Angle of rotation about neta\n",
    "        p       - The vector to be transformed\n",
    "    Output: resulting coordinates after appyling the rotation\n",
    "    \"\"\"\n",
    "\n",
    "    neta = neta / np.linalg.norm(neta)\n",
    "    theta = np.radians(theta)\n",
    "\n",
    "    s = np.cos(theta/2)\n",
    "    omega = neta * np.sin(theta/2)\n",
    "\n",
    "    p1 = (np.cross(omega, p)) * 2 * s\n",
    "    p2 = 2*(np.cross(omega, np.cross(omega, p)))\n",
    "\n",
    "    return p + p1 + p2"
   ]
  },
  {
   "cell_type": "code",
   "execution_count": 7,
   "metadata": {},
   "outputs": [
    {
     "name": "stdout",
     "output_type": "stream",
     "text": [
      "\n",
      "=== Testing Eigen Vector Rotation Implementation ===\n",
      "✅ No Rotation\n",
      "✅ 180-degree Z Rotation\n",
      "✅ 90-degree X Rotation\n",
      "✅ 45-degree Y Rotation\n",
      "✅ Negative 90-degree Z Rotation\n"
     ]
    }
   ],
   "source": [
    "lab_tester.test_rotation_eigen_vector(rotation_eigen_vector)"
   ]
  },
  {
   "cell_type": "code",
   "execution_count": 8,
   "metadata": {},
   "outputs": [],
   "source": [
    "def rotation_unit_quaternion(q: np.ndarray, p: np.ndarray) -> np.ndarray:\n",
    "    # Your code here - q: Unit quaternion vector [Real, i, j, k]\n",
    "\n",
    "    q = q / np.linalg.norm(q)\n",
    "\n",
    "    real, i, j, k = q\n",
    "\n",
    "    q_inv = np.array([real, -i, -j, -k])\n",
    "    p = np.array([0, p[0], p[1], p[2]])\n",
    "\n",
    "    def mul_quaternion(q1: np.ndarray, q2: np.ndarray):\n",
    "      s1, v1 = q1[0], q1[1:]\n",
    "      s2, v2 = q2[0], q2[1:]\n",
    "\n",
    "      s = s1*s2 - np.dot(v1, v2)\n",
    "      v = s1*v2 + s2*v1 + np.cross(v1, v2)\n",
    "      return np.array([s, v[0], v[1], v[2]])\n",
    "\n",
    "    first_rotation = mul_quaternion(q, p)\n",
    "    second_rotation = mul_quaternion(first_rotation, q_inv)\n",
    "\n",
    "    return second_rotation[1:]"
   ]
  },
  {
   "cell_type": "code",
   "execution_count": 9,
   "metadata": {},
   "outputs": [
    {
     "name": "stdout",
     "output_type": "stream",
     "text": [
      "\n",
      "=== Testing Unit Quaternion Rotation Implementation ===\n",
      "✅ No Rotation\n",
      "✅ 90-degree X Rotation\n",
      "✅ 180-degree Y Rotation\n",
      "✅ 90-degree Z Rotation\n",
      "✅ Negative 180-degree X Rotation\n"
     ]
    }
   ],
   "source": [
    "lab_tester.test_rotation_unit_quaternion(rotation_unit_quaternion)"
   ]
  },
  {
   "cell_type": "code",
   "execution_count": 10,
   "metadata": {},
   "outputs": [],
   "source": [
    "from scipy import linalg"
   ]
  },
  {
   "cell_type": "code",
   "execution_count": 11,
   "metadata": {},
   "outputs": [
    {
     "data": {
      "text/plain": [
       "array([1., 1., 1.])"
      ]
     },
     "execution_count": 11,
     "metadata": {},
     "output_type": "execute_result"
    }
   ],
   "source": [
    "def rotation_matrix_exp(w_x : np.ndarray, theta: float, p: np.ndarray) -> np.ndarray:\n",
    "    x, y, z = w_x / np.linalg.norm(w_x)\n",
    "\n",
    "    m_skew = np.array([\n",
    "        [0, -z, y],\n",
    "        [z, 0, -x],\n",
    "        [-y, x, 0]\n",
    "    ])\n",
    "\n",
    "    R = linalg.expm(np.radians(theta) * m_skew)\n",
    "\n",
    "    return R @ p\n",
    "rotation_matrix_exp([1, 0, 0], 0.3, [1, 1, 1]).round(1)"
   ]
  },
  {
   "cell_type": "code",
   "execution_count": 12,
   "metadata": {},
   "outputs": [
    {
     "name": "stdout",
     "output_type": "stream",
     "text": [
      "\n",
      "=== Testing Matrix Exponential Rotation Implementation ===\n",
      "✅ No Rotation\n",
      "✅ 90-degree X-axis Rotation\n",
      "✅ 90-degree Y-axis Rotation\n",
      "✅ 90-degree Z-axis Rotation\n",
      "✅ 180-degree X-axis Rotation\n",
      "✅ 180-degree Y-axis Rotation\n",
      "✅ 180-degree Z-axis Rotation\n",
      "✅ 45-degree X-axis Rotation\n"
     ]
    }
   ],
   "source": [
    "lab_tester.test_rotation_matrix_exp(rotation_matrix_exp)"
   ]
  }
 ],
 "metadata": {
  "kernelspec": {
   "display_name": "robotics",
   "language": "python",
   "name": "python3"
  },
  "language_info": {
   "codemirror_mode": {
    "name": "ipython",
    "version": 3
   },
   "file_extension": ".py",
   "mimetype": "text/x-python",
   "name": "python",
   "nbconvert_exporter": "python",
   "pygments_lexer": "ipython3",
   "version": "3.12.9"
  }
 },
 "nbformat": 4,
 "nbformat_minor": 2
}
