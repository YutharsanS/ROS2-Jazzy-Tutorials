{
 "cells": [
  {
   "cell_type": "code",
   "execution_count": null,
   "metadata": {},
   "outputs": [],
   "source": [
    "import numpy as np\n",
    "print(\"Numpy Version:\", np.__version__)"
   ]
  },
  {
   "cell_type": "code",
   "execution_count": null,
   "metadata": {},
   "outputs": [],
   "source": [
    "# Creating 1D, 2D, and 3D arrays\n",
    "arr1 = np.array([1, 2, 3, 4, 5]) # 1D array\n",
    "arr2 = np.array([[1, 2, 3], [4, 5, 6]]) # 2D array\n",
    "arr3 = np.array([[[1, 2], [3, 4]], [[5, 6], [7, 8]]]) # 3D array\n",
    "\n",
    "print(\"1D Array:\", arr1)\n",
    "print(\"2D Array:\", arr2)\n",
    "print(\"3D Array:\", arr3)\n",
    "\n",
    "print(\"Shape of arr2:\", arr3.shape)\n",
    "print(\"Size of arr2:\", arr3.size)\n",
    "print(\"Data type of arr2:\", arr2.dtype)"
   ]
  },
  {
   "cell_type": "code",
   "execution_count": null,
   "metadata": {},
   "outputs": [],
   "source": [
    "# Special arrays\n",
    "zeroes = np.zeros((3, 3))\n",
    "ones = np.ones((2, 3))\n",
    "identity = np.eye(4)\n",
    "random_arr = np.random.rand(3, 3)\n",
    "\n",
    "print(\"Zeroes:\\n\", zeroes)\n",
    "print(\"Ones:\\n\", ones)\n",
    "print(\"Identity Matrix:\\n\", identity)\n",
    "print(\"Random Matrix:\\n\", random_arr)"
   ]
  },
  {
   "cell_type": "code",
   "execution_count": null,
   "metadata": {},
   "outputs": [],
   "source": [
    "# Accessing elements using indices - 1D Array\n",
    "print(arr1)\n",
    "print(\"First element:\", arr1[0])\n",
    "print(\"Last element:\", arr1[-1])\n",
    "\n",
    "# Accessing elements using indices - 2D Array\n",
    "print(arr2)\n",
    "print(\"Element at (1,1):\", arr2[1,1])\n",
    "print(\"Element at (2,0):\", arr2[1,0])\n",
    "\n",
    "# Accessing elements using indices - 3D Array\n",
    "print(arr3)\n",
    "print(\"Element at (1,1):\", arr3[0, 1, 1])\n",
    "print(\"Element at (2,0):\", arr3[0, 1, 0])\n"
   ]
  },
  {
   "cell_type": "code",
   "execution_count": null,
   "metadata": {},
   "outputs": [],
   "source": [
    "# Slicing\n",
    "print(arr1[1:5])\n",
    "print(arr1[::2])"
   ]
  },
  {
   "cell_type": "code",
   "execution_count": null,
   "metadata": {},
   "outputs": [],
   "source": [
    "print(arr3[1:3, 0:2])"
   ]
  },
  {
   "cell_type": "code",
   "execution_count": null,
   "metadata": {},
   "outputs": [],
   "source": [
    "print(arr2[[1], [1]])"
   ]
  },
  {
   "cell_type": "code",
   "execution_count": null,
   "metadata": {},
   "outputs": [],
   "source": [
    "arr = np.array([[1, 2, 3], [4, 5, 6]])\n",
    "scalar = 10\n",
    "result = arr + scalar\n",
    "\n",
    "print(\"Original Array:\", arr)\n",
    "print(\"After Broadcasting:\", result)"
   ]
  },
  {
   "cell_type": "code",
   "execution_count": null,
   "metadata": {},
   "outputs": [],
   "source": [
    "A = np.array([[2,3], [4,5]])\n",
    "B = np.array([[1, 2], [3,4]])\n",
    "\n",
    "C = np.dot(A, B)\n"
   ]
  },
  {
   "cell_type": "code",
   "execution_count": null,
   "metadata": {},
   "outputs": [],
   "source": [
    "A_T = A.T\n",
    "print(A_T)"
   ]
  },
  {
   "cell_type": "code",
   "execution_count": null,
   "metadata": {},
   "outputs": [],
   "source": [
    "A_inv = np.linalg.inv(A)\n",
    "print(A_inv)"
   ]
  },
  {
   "cell_type": "code",
   "execution_count": null,
   "metadata": {},
   "outputs": [],
   "source": [
    "eig_vals, eig_vecs = np.linalg.eig(A)\n",
    "print(eig_vals)"
   ]
  },
  {
   "cell_type": "code",
   "execution_count": null,
   "metadata": {},
   "outputs": [],
   "source": [
    "arr = np.array([1, 4, 9, 16])\n",
    "\n",
    "sqrt_arr = np.sqrt(arr)\n",
    "exp_arr = np.exp(arr)\n",
    "log_arr = np.log(arr)\n"
   ]
  },
  {
   "cell_type": "code",
   "execution_count": null,
   "metadata": {},
   "outputs": [],
   "source": [
    "print(sqrt_arr)"
   ]
  },
  {
   "cell_type": "code",
   "execution_count": null,
   "metadata": {},
   "outputs": [],
   "source": [
    "print(exp_arr)"
   ]
  },
  {
   "cell_type": "code",
   "execution_count": null,
   "metadata": {},
   "outputs": [],
   "source": [
    "print(log_arr)"
   ]
  },
  {
   "cell_type": "code",
   "execution_count": null,
   "metadata": {},
   "outputs": [],
   "source": [
    "degrees = np.array([0, 90, 180])\n",
    "radians = np.deg2rad(degrees)"
   ]
  },
  {
   "cell_type": "code",
   "execution_count": null,
   "metadata": {},
   "outputs": [],
   "source": [
    "print(degrees)"
   ]
  },
  {
   "cell_type": "code",
   "execution_count": null,
   "metadata": {},
   "outputs": [],
   "source": [
    "print(radians)"
   ]
  },
  {
   "cell_type": "code",
   "execution_count": null,
   "metadata": {},
   "outputs": [],
   "source": [
    "print(np.sin(radians))"
   ]
  },
  {
   "cell_type": "code",
   "execution_count": null,
   "metadata": {},
   "outputs": [],
   "source": [
    "print(np.cos(radians))"
   ]
  },
  {
   "cell_type": "code",
   "execution_count": null,
   "metadata": {},
   "outputs": [],
   "source": [
    "arr = np.array([[1, 2, 3], [4, 5, 6]])\n",
    "\n",
    "reshaped = arr.reshape((3, 2))\n",
    "flattened = arr.ravel()\n"
   ]
  },
  {
   "cell_type": "code",
   "execution_count": null,
   "metadata": {},
   "outputs": [],
   "source": [
    "print(reshaped)"
   ]
  },
  {
   "cell_type": "code",
   "execution_count": null,
   "metadata": {},
   "outputs": [],
   "source": [
    "print(flattened)"
   ]
  },
  {
   "cell_type": "code",
   "execution_count": null,
   "metadata": {},
   "outputs": [],
   "source": [
    "flattened = np.sqrt(flattened)"
   ]
  },
  {
   "cell_type": "code",
   "execution_count": null,
   "metadata": {},
   "outputs": [],
   "source": [
    "print(flattened)"
   ]
  },
  {
   "cell_type": "code",
   "execution_count": null,
   "metadata": {},
   "outputs": [],
   "source": [
    "print(arr)"
   ]
  },
  {
   "cell_type": "markdown",
   "metadata": {},
   "source": [
    "# Linear Algebra Visualization"
   ]
  },
  {
   "cell_type": "code",
   "execution_count": null,
   "metadata": {},
   "outputs": [],
   "source": [
    "import matplotlib.pyplot as plt"
   ]
  },
  {
   "cell_type": "code",
   "execution_count": null,
   "metadata": {},
   "outputs": [],
   "source": [
    "# render plot lines\n",
    "%matplotlib inline"
   ]
  },
  {
   "cell_type": "code",
   "execution_count": null,
   "metadata": {},
   "outputs": [],
   "source": [
    "v = np.array([3, 4])"
   ]
  },
  {
   "cell_type": "code",
   "execution_count": 63,
   "metadata": {},
   "outputs": [
    {
     "data": {
      "image/png": "[encoded data removed]",
      "text/plain": [
       "<Figure size 640x480 with 1 Axes>"
      ]
     },
     "metadata": {},
     "output_type": "display_data"
    }
   ],
   "source": [
    "plt.quiver(0, 0, v[0], v[1], angles='xy', scale_units='xy', scale=1, color='r')\n",
    "plt.xlim(-5, 5)\n",
    "plt.ylim(-5, 5)\n",
    "plt.axhline(0, color='black', linewidth=0.5)\n",
    "plt.axvline(0, color='black', linewidth=0.5)\n",
    "plt.grid()\n",
    "plt.title(\"2D Vector Visualization\")\n",
    "plt.show()"
   ]
  },
  {
   "cell_type": "code",
   "execution_count": 69,
   "metadata": {},
   "outputs": [
    {
     "data": {
      "image/png": "[encoded data removed]",
      "text/plain": [
       "<Figure size 640x480 with 1 Axes>"
      ]
     },
     "metadata": {},
     "output_type": "display_data"
    }
   ],
   "source": [
    "# Vector Addition\n",
    "v1 = np.array([2, 3])\n",
    "v2 = np.array([3, 1])\n",
    "v_sum = v1 + v2\n",
    "\n",
    "# Plot vectors\n",
    "plt.quiver(0, 0, v1[0], v1[1], angles='xy', scale_units='xy', scale=1, color='b')\n",
    "plt.quiver(v1[0], v1[1], v2[0], v2[1], angles='xy', scale_units='xy', scale=1, color='g', label='v2')\n",
    "plt.quiver(0, 0, v_sum[0], v_sum[1], angles='xy', scale_units='xy', scale=1, color='r', label= 'v1 + v2')\n",
    "plt.xlim(-1, 6)\n",
    "plt.ylim(-1, 6)\n",
    "plt.axhline(0, color='black', linewidth=0.5)\n",
    "plt.axvline(0, color='black', linewidth=0.5)\n",
    "\n",
    "\n",
    "plt.grid()\n",
    "plt.legend()\n",
    "plt.title(\"Vector Addition\")\n",
    "plt.show()"
   ]
  },
  {
   "cell_type": "code",
   "execution_count": 70,
   "metadata": {},
   "outputs": [],
   "source": [
    "# Scaling\n",
    "S = np.array([[2, 0], [0, 1.5]])\n",
    "\n",
    "v = np.array([2, 3])\n",
    "\n",
    "v_transformed = S @ v # matrix multiplication"
   ]
  },
  {
   "cell_type": "code",
   "execution_count": 73,
   "metadata": {},
   "outputs": [
    {
     "data": {
      "image/png": "[encoded data removed]",
      "text/plain": [
       "<Figure size 640x480 with 1 Axes>"
      ]
     },
     "metadata": {},
     "output_type": "display_data"
    }
   ],
   "source": [
    "plt.quiver(0, 0, v[0], v[1], angles='xy', scale_units='xy', scale=1, color='b', label='Original Vector')\n",
    "plt.quiver(0, 0, v_transformed[0], v_transformed[1], angles='xy', scale_units='xy', scale=1, color='r', label=\"Scaled Vector\")\n",
    "\n",
    "plt.xlim(-5, 5)\n",
    "plt.ylim(-5, 5)\n",
    "plt.axhline(0, color='black', linewidth=0.5)\n",
    "plt.axvline(0, color='black', linewidth=0.5)\n",
    "plt.legend()\n",
    "plt.grid()\n",
    "plt.show()"
   ]
  },
  {
   "cell_type": "code",
   "execution_count": 75,
   "metadata": {},
   "outputs": [
    {
     "data": {
      "image/png": "[encoded data removed]",
      "text/plain": [
       "<Figure size 640x480 with 1 Axes>"
      ]
     },
     "metadata": {},
     "output_type": "display_data"
    }
   ],
   "source": [
    "# 2D Rotation\n",
    "theta = np.radians(45)\n",
    "R = np.array([[np.cos(theta), -np.sin(theta)],\n",
    "              [np.sin(theta), np.cos(theta)]])\n",
    "\n",
    "# define vector\n",
    "v = np.array([3, 1])\n",
    "\n",
    "# apply rotation\n",
    "v_rotated = R @ v\n",
    "\n",
    "# plot the original vector and rotated vector\n",
    "plt.quiver(0, 0, v[0], v[1], angles='xy', scale_units='xy', scale=1, color='b', label='original vector')\n",
    "plt.quiver(0, 0, v_rotated[0], v_rotated[1], angles='xy', scale_units='xy', scale=1, color='r', label='rotated vector')\n",
    "\n",
    "plt.xlim(-5, 5)\n",
    "plt.ylim(-5, 5)\n",
    "plt.axhline(0, color='black', linewidth=0.5)\n",
    "plt.axvline(0, color='black', linewidth=0.5)\n",
    "plt.legend()\n",
    "plt.grid()\n",
    "plt.title(\"2D Rotation\")\n",
    "plt.show()"
   ]
  },
  {
   "cell_type": "code",
   "execution_count": 77,
   "metadata": {},
   "outputs": [
    {
     "name": "stdout",
     "output_type": "stream",
     "text": [
      "[ 3. -1.]\n"
     ]
    },
    {
     "data": {
      "image/png": "[encoded data removed]",
      "text/plain": [
       "<Figure size 640x480 with 1 Axes>"
      ]
     },
     "metadata": {},
     "output_type": "display_data"
    }
   ],
   "source": [
    "A = np.array([\n",
    "    [1, 2],\n",
    "    [2, 1]\n",
    "])\n",
    "\n",
    "eig_vals, eig_vecs = np.linalg.eig(A)\n",
    "print(eig_vals)\n",
    "\n",
    "plt.quiver(0, 0, eig_vecs[0, 0], eig_vecs[1, 0], angles='xy', scale_units='xy', scale=1, color='r', label='Eigenvector 1')\n",
    "plt.quiver(0, 0, eig_vecs[0, 1], eig_vecs[1, 1], angles='xy', scale_units='xy', scale=1, color='b', label='Eigenvector 2')\n",
    "\n",
    "plt.xlim(-2, 2)\n",
    "plt.ylim(-2, 2)\n",
    "plt.axhline(0, color='black', linewidth=0.5)\n",
    "plt.axvline(0, color='black', linewidth=0.5)\n",
    "plt.grid()\n",
    "plt.legend()\n",
    "plt.title(\"Eigenvectors Visualization\")\n",
    "plt.show()\n"
   ]
  },
  {
   "cell_type": "code",
   "execution_count": 84,
   "metadata": {},
   "outputs": [
    {
     "name": "stdout",
     "output_type": "stream",
     "text": [
      "(3, 1)\n",
      "[[1 2 3]\n",
      " [2 1 3]\n",
      " [3 4 3]]\n",
      "[[-7.07106781e-01  7.07106781e-01  4.44089210e-16]\n",
      " [ 2.12132034e+00  2.12132034e+00  4.24264069e+00]\n",
      " [ 3.00000000e+00  4.00000000e+00  3.00000000e+00]]\n",
      "[[2.29289322 3.70710678 3.        ]\n",
      " [6.12132034 6.12132034 8.24264069]\n",
      " [8.         9.         8.        ]]\n",
      "[[3. 3. 3.]\n",
      " [4. 4. 4.]\n",
      " [5. 5. 5.]]\n"
     ]
    }
   ],
   "source": [
    "    from mpl_toolkits.mplot3d import Axes3D\n",
    "\n",
    "    # Define a 3d rotation matrix\n",
    "    theta = np.radians(45)\n",
    "    R_z = np.array([\n",
    "        [np.cos(theta), -np.sin(theta), 0],\n",
    "        [np.sin(theta), np.cos(theta), 0],\n",
    "        [0, 0, 1]\n",
    "    ])\n",
    "\n",
    "    # Define translation vector\n",
    "    t = np.array([\n",
    "        [3],\n",
    "        [4],\n",
    "        [5]\n",
    "    ])\n",
    "\n",
    "    print((t.shape))\n",
    "\n",
    "    # Define a 3D points\n",
    "    points = np.array([\n",
    "        [1, 2, 3],\n",
    "        [2, 1, 4],\n",
    "        [3, 3, 3]\n",
    "    ]).T\n",
    "\n",
    "    # Apply rotation\n",
    "    rotated_points = R_z @ points\n",
    "\n",
    "    # Apply translation\n",
    "    translated_points = rotated_points + t\n",
    "\n",
    "    # Create 3D plot\n",
    "    fig = plt.figure()\n",
    "    ax = Axes3D(fig)\n",
    "    ax = fig.add_subplot(111, projection='3d')\n",
    "\n",
    "    # Plot original points\n",
    "    ax.quiver(0, 0, 0, points[0], points[1], points[2], color='b', label='Original Points')\n",
    "\n",
    "    # Plot rotated points\n",
    "    ax.quiver(0, 0, 0, rotated_points[0], rotated_points[1], rotated_points[2], color='r', label='Rotated Points')\n",
    "\n",
    "    # Plot translated points\n",
    "    ax.quiver(t[0], t[1], t[2], translated_points[0], translated_points[1], translated_points[2], color='g', label='Translated Points')\n",
    "\n",
    "    # Set axis limits\n",
    "    ax.set_xlim([-5, 5 + 5])\n",
    "    ax.set_ylim([-5, 5 + 5])\n",
    "    ax.set_zlim([-5, 5 + 5])\n",
    "\n",
    "    # Labels and legend\n",
    "    ax.set_xlabel('X')\n",
    "    ax.set_ylabel('Y')\n",
    "    ax.set_zlabel('Z')\n",
    "\n",
    "    ax.legend()\n",
    "    plt.title(\"3D Transformation\")\n",
    "\n",
    "\n",
    "    print(points)\n",
    "    print(rotated_points)\n",
    "    print(translated_points)\n",
    "    print (translated_points - rotated_points)\n",
    "\n",
    "    # plt.show()"
   ]
  },
  {
   "cell_type": "code",
   "execution_count": null,
   "metadata": {},
   "outputs": [],
   "source": []
  }
 ],
 "metadata": {
  "kernelspec": {
   "display_name": "base",
   "language": "python",
   "name": "python3"
  },
  "language_info": {
   "codemirror_mode": {
    "name": "ipython",
    "version": 3
   },
   "file_extension": ".py",
   "mimetype": "text/x-python",
   "name": "python",
   "nbconvert_exporter": "python",
   "pygments_lexer": "ipython3",
   "version": "3.12.7"
  }
 },
 "nbformat": 4,
 "nbformat_minor": 2
}
