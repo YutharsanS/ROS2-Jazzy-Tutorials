{
 "cells": [
  {
   "cell_type": "code",
   "execution_count": 2,
   "metadata": {},
   "outputs": [
    {
     "name": "stdout",
     "output_type": "stream",
     "text": [
      "Numpy Version: 1.26.4\n"
     ]
    }
   ],
   "source": [
    "import numpy as np\n",
    "print(\"Numpy Version:\", np.__version__)"
   ]
  },
  {
   "cell_type": "code",
   "execution_count": 5,
   "metadata": {},
   "outputs": [
    {
     "name": "stdout",
     "output_type": "stream",
     "text": [
      "1D Array: [1 2 3 4 5]\n",
      "2D Array: [[1 2 3]\n",
      " [4 5 6]]\n",
      "3D Array: [[[1 2]\n",
      "  [3 4]]\n",
      "\n",
      " [[5 6]\n",
      "  [7 8]]]\n",
      "Shape of arr2: (2, 2, 2)\n",
      "Size of arr2: 8\n",
      "Data type of arr2: int64\n"
     ]
    }
   ],
   "source": [
    "# Creating 1D, 2D, and 3D arrays\n",
    "arr1 = np.array([1, 2, 3, 4, 5]) # 1D array\n",
    "arr2 = np.array([[1, 2, 3], [4, 5, 6]]) # 2D array\n",
    "arr3 = np.array([[[1, 2], [3, 4]], [[5, 6], [7, 8]]]) # 3D array\n",
    "\n",
    "print(\"1D Array:\", arr1)\n",
    "print(\"2D Array:\", arr2)\n",
    "print(\"3D Array:\", arr3)\n",
    "\n",
    "print(\"Shape of arr2:\", arr3.shape)\n",
    "print(\"Size of arr2:\", arr3.size)\n",
    "print(\"Data type of arr2:\", arr2.dtype)"
   ]
  },
  {
   "cell_type": "code",
   "execution_count": 12,
   "metadata": {},
   "outputs": [
    {
     "name": "stdout",
     "output_type": "stream",
     "text": [
      "Zeroes:\n",
      " [[0. 0. 0.]\n",
      " [0. 0. 0.]\n",
      " [0. 0. 0.]]\n",
      "Ones:\n",
      " [[1. 1. 1.]\n",
      " [1. 1. 1.]]\n",
      "Identity Matrix:\n",
      " [[1. 0. 0. 0.]\n",
      " [0. 1. 0. 0.]\n",
      " [0. 0. 1. 0.]\n",
      " [0. 0. 0. 1.]]\n",
      "Random Matrix:\n",
      " [[0.09066492 0.35344788 0.25078054]\n",
      " [0.61637809 0.04967215 0.17152175]\n",
      " [0.76220337 0.03698245 0.29705918]]\n"
     ]
    }
   ],
   "source": [
    "# Special arrays\n",
    "zeroes = np.zeros((3, 3))\n",
    "ones = np.ones((2, 3))\n",
    "identity = np.eye(4)\n",
    "random_arr = np.random.rand(3, 3)\n",
    "\n",
    "print(\"Zeroes:\\n\", zeroes)\n",
    "print(\"Ones:\\n\", ones)\n",
    "print(\"Identity Matrix:\\n\", identity)\n",
    "print(\"Random Matrix:\\n\", random_arr)"
   ]
  },
  {
   "cell_type": "code",
   "execution_count": 15,
   "metadata": {},
   "outputs": [
    {
     "name": "stdout",
     "output_type": "stream",
     "text": [
      "[1 2 3 4 5]\n",
      "First element: 1\n",
      "Last element: 5\n",
      "[[1 2 3]\n",
      " [4 5 6]]\n",
      "Element at (1,1): 5\n",
      "Element at (2,0): 4\n",
      "[[[1 2]\n",
      "  [3 4]]\n",
      "\n",
      " [[5 6]\n",
      "  [7 8]]]\n",
      "Element at (1,1): 4\n",
      "Element at (2,0): 3\n"
     ]
    }
   ],
   "source": [
    "# Accessing elements using indices - 1D Array\n",
    "print(arr1)\n",
    "print(\"First element:\", arr1[0])\n",
    "print(\"Last element:\", arr1[-1])\n",
    "\n",
    "# Accessing elements using indices - 2D Array\n",
    "print(arr2)\n",
    "print(\"Element at (1,1):\", arr2[1,1])\n",
    "print(\"Element at (2,0):\", arr2[1,0])\n",
    "\n",
    "# Accessing elements using indices - 3D Array\n",
    "print(arr3)\n",
    "print(\"Element at (1,1):\", arr3[0, 1, 1])\n",
    "print(\"Element at (2,0):\", arr3[0, 1, 0])\n"
   ]
  },
  {
   "cell_type": "code",
   "execution_count": 17,
   "metadata": {},
   "outputs": [
    {
     "name": "stdout",
     "output_type": "stream",
     "text": [
      "[2 3 4 5]\n",
      "[1 3 5]\n"
     ]
    }
   ],
   "source": [
    "# Slicing\n",
    "print(arr1[1:5])\n",
    "print(arr1[::2])"
   ]
  },
  {
   "cell_type": "code",
   "execution_count": 24,
   "metadata": {},
   "outputs": [
    {
     "name": "stdout",
     "output_type": "stream",
     "text": [
      "[[[5 6]\n",
      "  [7 8]]]\n"
     ]
    }
   ],
   "source": [
    "print(arr3[1:3, 0:2])"
   ]
  },
  {
   "cell_type": "code",
   "execution_count": 27,
   "metadata": {},
   "outputs": [
    {
     "name": "stdout",
     "output_type": "stream",
     "text": [
      "[5]\n"
     ]
    }
   ],
   "source": [
    "print(arr2[[1], [1]])"
   ]
  },
  {
   "cell_type": "code",
   "execution_count": 30,
   "metadata": {},
   "outputs": [
    {
     "name": "stdout",
     "output_type": "stream",
     "text": [
      "Original Array: [[1 2 3]\n",
      " [4 5 6]]\n",
      "After Broadcasting: [[11 12 13]\n",
      " [14 15 16]]\n"
     ]
    }
   ],
   "source": [
    "arr = np.array([[1, 2, 3], [4, 5, 6]])\n",
    "scalar = 10\n",
    "result = arr + scalar\n",
    "\n",
    "print(\"Original Array:\", arr)\n",
    "print(\"After Broadcasting:\", result)"
   ]
  },
  {
   "cell_type": "code",
   "execution_count": null,
   "metadata": {},
   "outputs": [
    {
     "name": "stdout",
     "output_type": "stream",
     "text": [
      "[[11 16]\n",
      " [19 28]]\n"
     ]
    }
   ],
   "source": [
    "A = np.array([[2,3], [4,5]])\n",
    "B = np.array([[1, 2], [3,4]])\n",
    "\n",
    "C = np.dot(A, B)\n"
   ]
  },
  {
   "cell_type": "code",
   "execution_count": 36,
   "metadata": {},
   "outputs": [
    {
     "name": "stdout",
     "output_type": "stream",
     "text": [
      "[[2 4]\n",
      " [3 5]]\n"
     ]
    }
   ],
   "source": [
    "A_T = A.T\n",
    "print(A_T)"
   ]
  },
  {
   "cell_type": "code",
   "execution_count": 38,
   "metadata": {},
   "outputs": [
    {
     "name": "stdout",
     "output_type": "stream",
     "text": [
      "[[-2.5  1.5]\n",
      " [ 2.  -1. ]]\n"
     ]
    }
   ],
   "source": [
    "A_inv = np.linalg.inv(A)\n",
    "print(A_inv)"
   ]
  },
  {
   "cell_type": "code",
   "execution_count": 39,
   "metadata": {},
   "outputs": [
    {
     "name": "stdout",
     "output_type": "stream",
     "text": [
      "[-0.27491722  7.27491722]\n"
     ]
    }
   ],
   "source": [
    "eig_vals, eig_vecs = np.linalg.eig(A)\n",
    "print(eig_vals)"
   ]
  },
  {
   "cell_type": "code",
   "execution_count": null,
   "metadata": {},
   "outputs": [],
   "source": []
  }
 ],
 "metadata": {
  "kernelspec": {
   "display_name": "base",
   "language": "python",
   "name": "python3"
  },
  "language_info": {
   "codemirror_mode": {
    "name": "ipython",
    "version": 3
   },
   "file_extension": ".py",
   "mimetype": "text/x-python",
   "name": "python",
   "nbconvert_exporter": "python",
   "pygments_lexer": "ipython3",
   "version": "3.12.7"
  }
 },
 "nbformat": 4,
 "nbformat_minor": 2
}
